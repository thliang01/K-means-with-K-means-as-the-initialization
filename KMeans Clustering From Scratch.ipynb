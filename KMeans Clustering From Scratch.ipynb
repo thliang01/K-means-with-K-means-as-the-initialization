{
 "cells": [
  {
   "attachments": {},
   "cell_type": "markdown",
   "metadata": {},
   "source": [
    "## Importing Libraries"
   ]
  },
  {
   "cell_type": "code",
   "execution_count": null,
   "metadata": {},
   "outputs": [],
   "source": [
    "import numpy as np # linear algebra\n",
    "import pandas as pd # data processing, CSV file I/O (e.g. pd.read_csv)\n",
    "import os\n",
    "import matplotlib.pyplot as plt\n",
    "from sklearn import cluster\n",
    "from sklearn import preprocessing\n",
    "import plotly.express as px\n",
    "from sklearn.datasets import make_blobs\n",
    "plt.style.use('dark_background')"
   ]
  },
  {
   "attachments": {},
   "cell_type": "markdown",
   "metadata": {},
   "source": [
    "## KMeans From Scratch"
   ]
  },
  {
   "cell_type": "code",
   "execution_count": null,
   "metadata": {},
   "outputs": [],
   "source": [
    "class KMeansClustering:\n",
    "    def __init__(self, X, num_clusters):\n",
    "        self.K = num_clusters # cluster number\n",
    "        self.max_iterations = 100 # max iteration. don't want to run inf time\n",
    "        self.num_examples, self.num_features = X.shape # num of examples, num of features\n",
    "        self.plot_figure = True # plot figure\n",
    "        \n",
    "    # randomly initialize centroids\n",
    "    def initialize_random_centroids(self, X):\n",
    "        centroids = np.zeros((self.K, self.num_features)) # row , column full with zero \n",
    "        for k in range(self.K): # iterations of \n",
    "            centroid = X[np.random.choice(range(self.num_examples))] # random centroids\n",
    "            centroids[k] = centroid\n",
    "        return centroids # return random centroids\n",
    "    \n",
    "    # create cluster Function\n",
    "    def create_cluster(self, X, centroids):\n",
    "        clusters = [[] for _ in range(self.K)]\n",
    "        for point_idx, point in enumerate(X):\n",
    "            closest_centroid = np.argmin(\n",
    "                np.sqrt(np.sum((point-centroids)**2, axis=1))\n",
    "            ) # closest centroid using euler distance equation(calculate distance of every point from centroid)\n",
    "            clusters[closest_centroid].append(point_idx)\n",
    "        return clusters \n",
    "    \n",
    "    # new centroids\n",
    "    def calculate_new_centroids(self, cluster, X):\n",
    "        centroids = np.zeros((self.K, self.num_features)) # row , column full with zero\n",
    "        for idx, cluster in enumerate(cluster):\n",
    "            new_centroid = np.mean(X[cluster], axis=0) # find the value for new centroids\n",
    "            centroids[idx] = new_centroid\n",
    "        return centroids\n",
    "    \n",
    "    # prediction\n",
    "    def predict_cluster(self, clusters, X):\n",
    "        y_pred = np.zeros(self.num_examples) # row1 fillup with zero\n",
    "        for cluster_idx, cluster in enumerate(clusters):\n",
    "            for sample_idx in cluster:\n",
    "                y_pred[sample_idx] = cluster_idx\n",
    "        return y_pred\n",
    "    \n",
    "    # plotinng scatter plot\n",
    "    def plot_fig(self, X, y):\n",
    "        fig = px.scatter(X[:, 0], X[:, 1], color=y)\n",
    "        fig.show() # visualize\n",
    "        \n",
    "    # fit data\n",
    "    def fit(self, X):\n",
    "        centroids = self.initialize_random_centroids(X) # initialize random centroids\n",
    "        for _ in range(self.max_iterations):\n",
    "            clusters = self.create_cluster(X, centroids) # create cluster\n",
    "            previous_centroids = centroids\n",
    "            centroids = self.calculate_new_centroids(clusters, X) # calculate new centroids\n",
    "            diff = centroids - previous_centroids # calculate difference\n",
    "            if not diff.any():\n",
    "                break\n",
    "        y_pred = self.predict_cluster(clusters, X) # predict function\n",
    "        if self.plot_figure: # if true\n",
    "            self.plot_fig(X, y_pred) # plot function \n",
    "        return y_pred\n",
    "            \n",
    "if __name__ == \"__main__\":\n",
    "    np.random.seed(42)\n",
    "    num_clusters = 3 # num of cluster\n",
    "    X, _ = make_blobs(n_samples=1000, n_features=2, centers=num_clusters) # create dataset using make_blobs from sklearn datasets\n",
    "    Kmeans = KMeansClustering(X, num_clusters)\n",
    "    y_pred = Kmeans.fit(X)"
   ]
  },
  {
   "attachments": {},
   "cell_type": "markdown",
   "metadata": {},
   "source": [
    "### KMeans++ Algorithm"
   ]
  },
  {
   "cell_type": "code",
   "execution_count": null,
   "metadata": {},
   "outputs": [],
   "source": [
    "def euler_distance(point1: list, point2: list) -> float:\n",
    "    \"\"\"\n",
    "    计算两点之间的欧拉距离，支持多维\n",
    "    \"\"\"\n",
    "    distance = 0.0\n",
    "    for a, b in zip(point1, point2):\n",
    "        distance += math.pow(a - b, 2)\n",
    "    return math.sqrt(distance)\n",
    "\n",
    "def get_closest_dist(point, centroids):\n",
    "    min_dist = math.inf  # 初始设为无穷大\n",
    "    for i, centroid in enumerate(centroids):\n",
    "        dist = euler_distance(centroid, point)\n",
    "        if dist < min_dist:\n",
    "            min_dist = dist\n",
    "    return min_dist\n",
    "\n",
    "def kpp_centers(data_set: list, k: int) -> list:\n",
    "    \"\"\"\n",
    "    从数据集中返回 k 个对象可作为质心\n",
    "    \"\"\"\n",
    "    cluster_centers = []\n",
    "    cluster_centers.append(random.choice(data_set))\n",
    "    d = [0 for _ in range(len(data_set))]\n",
    "    for _ in range(1, k):\n",
    "        total = 0.0\n",
    "        for i, point in enumerate(data_set):\n",
    "            d[i] = get_closest_dist(point, cluster_centers) # 与最近一个聚类中心的距离\n",
    "            total += d[i]\n",
    "        total *= random.random()\n",
    "        for i, di in enumerate(d): # 轮盘法选出下一个聚类中心；\n",
    "            total -= di\n",
    "            if total > 0:\n",
    "                continue\n",
    "            cluster_centers.append(data_set[i])\n",
    "            break\n",
    "    return cluster_centers\n",
    "\n"
   ]
  },
  {
   "cell_type": "code",
   "execution_count": null,
   "metadata": {},
   "outputs": [],
   "source": [
    "def get_kmeans_pp_centroids(X1,k = 5):\n",
    "    centroids = X1.sample()\n",
    "    print(centroids)\n",
    "    i = 1\n",
    "    dist = []\n",
    "    while i != k:\n",
    "        max_dist = [0,0]\n",
    "        #go through the centroids\n",
    "        for index, row in centroids.iterrows():\n",
    "            #calculate distance of every centroid with every other data point \n",
    "            d = np.sqrt((X1[\"Height\"] - row[\"Height\"])**2 +(X1[\"Weight\"] - row[\"Weight\"])**2)\n",
    "            #check which centroid has a max distance with another point\n",
    "            if max(d) > max(max_dist):\n",
    "                max_dist = d\n",
    "\n",
    "        X1 = pd.concat([X1, max_dist], axis = 1)\n",
    "        idx = X1.iloc[:,i+1].idxmax()\n",
    "        max_coor = pd.DataFrame(X1.iloc[idx][[\"Height\", \"Weight\"]]).T\n",
    "        centroids = pd.concat([centroids,max_coor])\n",
    "        X1 = X1.drop(idx)\n",
    "        i+=1\n",
    "    return centroids"
   ]
  },
  {
   "attachments": {},
   "cell_type": "markdown",
   "metadata": {},
   "source": [
    "## Read dataset"
   ]
  },
  {
   "cell_type": "code",
   "execution_count": null,
   "metadata": {},
   "outputs": [],
   "source": [
    "df = pd.read_csv(\"data/Wholesale customers data.csv\")\n",
    "df.head(20)"
   ]
  },
  {
   "attachments": {},
   "cell_type": "markdown",
   "metadata": {},
   "source": [
    "## preprocessing with standard scaler"
   ]
  },
  {
   "cell_type": "code",
   "execution_count": null,
   "metadata": {},
   "outputs": [],
   "source": [
    "scaler = preprocessing.StandardScaler()\n",
    "data_scaled = scaler.fit_transform(df)\n",
    "\n",
    "pd.DataFrame(data_scaled).describe()"
   ]
  },
  {
   "attachments": {},
   "cell_type": "markdown",
   "metadata": {},
   "source": [
    "## Fit Data"
   ]
  },
  {
   "cell_type": "code",
   "execution_count": null,
   "metadata": {},
   "outputs": [],
   "source": [
    "kmeans = cluster.KMeans(n_clusters=2, init='k-means++') # ‘k-means++’ : selects initial cluster centers for k-mean clustering in a smart way to speed up convergence.\n",
    "kmeans.fit(data_scaled)"
   ]
  },
  {
   "cell_type": "code",
   "execution_count": null,
   "metadata": {},
   "outputs": [],
   "source": [
    "kmeans.inertia_\n"
   ]
  },
  {
   "attachments": {},
   "cell_type": "markdown",
   "metadata": {},
   "source": [
    "## elbow method"
   ]
  },
  {
   "cell_type": "code",
   "execution_count": null,
   "metadata": {},
   "outputs": [],
   "source": [
    "SSE = []\n",
    "for i in range(1,20):\n",
    "    kmeans = cluster.KMeans(n_clusters = i, init='k-means++') # iterate from range (1, 20)\n",
    "    kmeans.fit(data_scaled)\n",
    "    SSE.append(kmeans.inertia_)\n",
    "\n",
    "# converting the results into a dataframe and plotting them\n",
    "frame = pd.DataFrame({'Cluster':range(1,20), 'SSE':SSE})\n",
    "plt.figure(figsize=(12,6))\n",
    "plt.plot(frame['Cluster'], frame['SSE'], marker=\"*\")\n",
    "plt.xlabel('Number of clusters')\n",
    "plt.ylabel('Inertia')"
   ]
  },
  {
   "cell_type": "code",
   "execution_count": null,
   "metadata": {},
   "outputs": [],
   "source": [
    "kmeans = cluster.KMeans(n_clusters=5, init='k-means++')\n",
    "kmeans.fit(data_scaled)\n",
    "pred = kmeans.predict(data_scaled)\n",
    "pred"
   ]
  },
  {
   "cell_type": "code",
   "execution_count": null,
   "metadata": {},
   "outputs": [],
   "source": [
    "frame = pd.DataFrame(data_scaled)\n",
    "frame['cluster'] = pred\n",
    "frame['cluster'].value_counts()"
   ]
  },
  {
   "cell_type": "code",
   "execution_count": null,
   "metadata": {},
   "outputs": [],
   "source": [
    "dataset = df.copy()\n",
    "dataset[\"cluster\"] = pred"
   ]
  },
  {
   "cell_type": "code",
   "execution_count": null,
   "metadata": {},
   "outputs": [],
   "source": [
    "fig = px.scatter_3d(dataset, x=\"Grocery\", y=\"Milk\", z=\"Fresh\", color='cluster', size=\"Fresh\", size_max=30)\n",
    "fig.show()"
   ]
  }
 ],
 "metadata": {
  "kernelspec": {
   "display_name": "kmeans",
   "language": "python",
   "name": "python3"
  },
  "language_info": {
   "codemirror_mode": {
    "name": "ipython",
    "version": 3
   },
   "file_extension": ".py",
   "mimetype": "text/x-python",
   "name": "python",
   "nbconvert_exporter": "python",
   "pygments_lexer": "ipython3",
   "version": "3.9.16"
  },
  "orig_nbformat": 4
 },
 "nbformat": 4,
 "nbformat_minor": 2
}
